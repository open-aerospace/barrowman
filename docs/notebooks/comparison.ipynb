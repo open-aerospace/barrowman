{
 "cells": [
  {
   "cell_type": "raw",
   "metadata": {},
   "source": [
    "Comparison\n",
    "=========="
   ]
  },
  {
   "cell_type": "code",
   "execution_count": null,
   "metadata": {
    "collapsed": false
   },
   "outputs": [],
   "source": [
    "# dependencies\n",
    "from numpy import loadtxt\n",
    "import matplotlib.pyplot as plt\n",
    "%matplotlib inline\n",
    "\n",
    "IN2M = 0.0254\n",
    "\n",
    "# import data\n",
    "or_mach, or_cp = loadtxt('./data/C_P-OpenRocket.csv', delimiter=',', unpack=True)\n",
    "\n",
    "ras_mach = []\n",
    "ras_cp = []\n",
    "with open('./data/C_P-RASAero-II.csv', 'r') as fin:\n",
    "    for line in fin.readlines():\n",
    "        # ignore documentation line\n",
    "        if 'Mach' in line: continue\n",
    "\n",
    "        li = line.split(',')\n",
    "\n",
    "        # don't care about alpha > 0\n",
    "        if float(li[1]) > 0: continue\n",
    "\n",
    "        ras_mach.append(float(li[0]))\n",
    "        ras_cp.append(float(li[12])*IN2M)\n",
    "\n",
    "ras_mach_sparse = [m for i, m in enumerate(ras_mach) if i%10 == 0]\n",
    "ras_cp_sparse = [cp for i, cp in enumerate(ras_cp) if i%10 == 0]"
   ]
  },
  {
   "cell_type": "code",
   "execution_count": null,
   "metadata": {
    "collapsed": false
   },
   "outputs": [],
   "source": [
    "fig, ax1 = plt.subplots(figsize=(16,8))\n",
    "plt.title(r\"Center of Pressure ($\\mathrm{C}_P$) From Multiple Tools\")\n",
    "plt.ylabel(r\"$\\mathrm{C}_P$\")\n",
    "plt.xlabel(r\"Mach Number\")\n",
    "\n",
    "plt.plot(ras_mach_sparse, ras_cp_sparse, 'x', label=\"RASAero II\")\n",
    "plt.plot(or_mach, or_cp, '+', label=\"OpenRocket\")\n",
    "\n",
    "plt.ylim([0.75,1.25])\n",
    "plt.xlim([0,8])\n",
    "ax1.legend(loc=1, title=\"Tool:\")\n",
    "plt.show()"
   ]
  },
  {
   "cell_type": "raw",
   "metadata": {
    "collapsed": true
   },
   "source": []
  }
 ],
 "metadata": {
  "kernelspec": {
   "display_name": "Python 2",
   "language": "python",
   "name": "python2"
  },
  "language_info": {
   "codemirror_mode": {
    "name": "ipython",
    "version": 2
   },
   "file_extension": ".py",
   "mimetype": "text/x-python",
   "name": "python",
   "nbconvert_exporter": "python",
   "pygments_lexer": "ipython2",
   "version": "2.7.11+"
  }
 },
 "nbformat": 4,
 "nbformat_minor": 0
}
