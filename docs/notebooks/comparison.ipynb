{
 "cells": [
  {
   "cell_type": "raw",
   "metadata": {
    "raw_mimetype": "text/restructuredtext"
   },
   "source": [
    "Comparison\n",
    "=========="
   ]
  },
  {
   "cell_type": "code",
   "execution_count": null,
   "metadata": {
    "collapsed": false
   },
   "outputs": [],
   "source": [
    "# dependencies\n",
    "from numpy import loadtxt, arange\n",
    "import matplotlib.pyplot as plt\n",
    "%matplotlib inline\n",
    "\n",
    "IN2M = 0.0254\n",
    "\n",
    "# import data\n",
    "or_mach, or_cp = loadtxt('./data/C_P-OpenRocket.csv', delimiter=',', unpack=True)\n",
    "\n",
    "ras_mach = []\n",
    "ras_cp = []\n",
    "with open('./data/C_P-RASAero-II.csv', 'r') as fin:\n",
    "    for line in fin.readlines():\n",
    "        # ignore documentation line\n",
    "        if 'Mach' in line: continue\n",
    "\n",
    "        li = line.split(',')\n",
    "\n",
    "        # don't care about alpha > 0\n",
    "        if float(li[1]) > 0: continue\n",
    "\n",
    "        ras_mach.append(float(li[0]))\n",
    "        ras_cp.append(float(li[12])*IN2M)\n",
    "\n",
    "ras_mach_sparse = [m for i, m in enumerate(ras_mach) if i%10 == 0]\n",
    "ras_cp_sparse = [cp for i, cp in enumerate(ras_cp) if i%10 == 0]"
   ]
  },
  {
   "cell_type": "code",
   "execution_count": null,
   "metadata": {
    "collapsed": false
   },
   "outputs": [],
   "source": [
    "import barrowman\n",
    "from barrowman import original\n",
    "\n",
    "# build a rocket\n",
    "nose = barrowman.Nose(barrowman.Nose.CONE, 0.1, 0.3)\n",
    "tube = barrowman.Tube(0.1, 1.0)\n",
    "\n",
    "body = original.Body([nose, tube])\n",
    "\n",
    "# TODO: full solution\n",
    "mach = arange(0,25,0.05)\n",
    "cp = []\n",
    "for m in mach:\n",
    "    cp.append(body.C_P(m))"
   ]
  },
  {
   "cell_type": "code",
   "execution_count": null,
   "metadata": {
    "collapsed": false
   },
   "outputs": [],
   "source": [
    "fig, ax1 = plt.subplots(figsize=(16,8))\n",
    "plt.title(r\"Center of Pressure ($\\mathrm{C}_P$) From Multiple Tools\")\n",
    "plt.ylabel(r\"$\\mathrm{C}_P$\")\n",
    "plt.xlabel(r\"Mach Number\")\n",
    "\n",
    "plt.plot(ras_mach_sparse, ras_cp_sparse, 'x', label=\"RASAero II\")\n",
    "plt.plot(or_mach, or_cp, '+', label=\"OpenRocket\")\n",
    "plt.plot(mach, cp, label=\"barrowman\")\n",
    "\n",
    "plt.ylim([0.75,1.25])\n",
    "plt.xlim([0,8])\n",
    "ax1.legend(loc=1, title=\"Tool:\")\n",
    "plt.show()"
   ]
  },
  {
   "cell_type": "raw",
   "metadata": {
    "collapsed": true
   },
   "source": []
  }
 ],
 "metadata": {
  "kernelspec": {
   "display_name": "Python 3",
   "language": "python",
   "name": "python3"
  },
  "language_info": {
   "codemirror_mode": {
    "name": "ipython",
    "version": 3
   },
   "file_extension": ".py",
   "mimetype": "text/x-python",
   "name": "python",
   "nbconvert_exporter": "python",
   "pygments_lexer": "ipython3",
   "version": "3.5.1+"
  }
 },
 "nbformat": 4,
 "nbformat_minor": 0
}
